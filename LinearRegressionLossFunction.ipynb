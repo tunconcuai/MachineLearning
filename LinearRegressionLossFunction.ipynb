{
  "nbformat": 4,
  "nbformat_minor": 0,
  "metadata": {
    "colab": {
      "provenance": []
    },
    "kernelspec": {
      "name": "python3",
      "display_name": "Python 3"
    },
    "language_info": {
      "name": "python"
    }
  },
  "cells": [
    {
      "cell_type": "code",
      "execution_count": 18,
      "metadata": {
        "id": "oQaHmRpkqYcm"
      },
      "outputs": [],
      "source": [
        "import numpy as np\n",
        "import matplotlib.pyplot as plt"
      ]
    },
    {
      "cell_type": "code",
      "source": [
        "x_train = np.array([1.0,2.0])\n",
        "y_train = np.array([300.0,500.0])"
      ],
      "metadata": {
        "id": "qPvSs1Vhqc72"
      },
      "execution_count": 25,
      "outputs": []
    },
    {
      "cell_type": "code",
      "source": [
        "def model(X, y, w, b):\n",
        "    loss_sum = 0\n",
        "    m = X.shape[0]\n",
        "    for i in range(m):\n",
        "        y_pred = X[i] * w + b  # use X instead of x_train\n",
        "        loss = (y_pred - y[i]) ** 2\n",
        "        loss_sum += loss\n",
        "    total_loss = (1 / (2 * m)) * loss_sum\n",
        "    return total_loss\n",
        "\n",
        "print(model(x_train, y_train, 165, 165))\n",
        "#Cost function tells us how off our prediction is from the actual y values\n",
        "#Lower loss function = better predictions\n"
      ],
      "metadata": {
        "colab": {
          "base_uri": "https://localhost:8080/"
        },
        "id": "8vXEFDhGq762",
        "outputId": "fc7f355c-e44b-4f9c-c867-0de50c9d8806"
      },
      "execution_count": 53,
      "outputs": [
        {
          "output_type": "stream",
          "name": "stdout",
          "text": [
            "231.25\n"
          ]
        }
      ]
    },
    {
      "cell_type": "code",
      "source": [],
      "metadata": {
        "id": "ZIhT8flF0aQE"
      },
      "execution_count": null,
      "outputs": []
    }
  ]
}